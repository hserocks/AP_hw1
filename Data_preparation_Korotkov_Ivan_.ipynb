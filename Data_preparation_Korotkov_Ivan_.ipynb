{
 "nbformat": 4,
 "nbformat_minor": 0,
 "metadata": {
  "colab": {
   "provenance": []
  },
  "kernelspec": {
   "name": "python3",
   "display_name": "Python 3"
  },
  "language_info": {
   "name": "python"
  }
 },
 "cells": [
  {
   "cell_type": "markdown",
   "source": [
    "# Практическая работа"
   ],
   "metadata": {
    "id": "m9QWlN-lq0qw",
    "pycharm": {
     "name": "#%% md\n"
    }
   }
  },
  {
   "cell_type": "markdown",
   "source": [
    "# Задача"
   ],
   "metadata": {
    "id": "4Nb7eTxYWWUe",
    "pycharm": {
     "name": "#%% md\n"
    }
   }
  },
  {
   "cell_type": "markdown",
   "source": [
    "Один из способов повысить эффективность взаимодействия банка с клиентами — отправлять предложение о новой услуге не всем клиентам, а только некоторым, которые выбираются по принципу наибольшей склонности к отклику на это предложение.\n",
    "\n",
    "Задача заключается в том, чтобы предложить алгоритм, который будет выдавать склонность клиента к положительному или отрицательному отклику на предложение банка. Предполагается, что, получив такие оценки для некоторого множества клиентов, банк обратится с предложением только к тем, от кого ожидается положительный отклик.\n"
   ],
   "metadata": {
    "id": "ug5TQChn6KiJ",
    "pycharm": {
     "name": "#%% md\n"
    }
   }
  },
  {
   "cell_type": "markdown",
   "source": [
    "Для решения этой задачи загрузите файлы из базы в Postgres (или используйте `*.csv` как есть).\n",
    "Эта БД хранит информацию о клиентах банка и их персональные данные, такие как пол, количество детей и другие.\n",
    "\n",
    "Описание таблиц с данными представлено ниже.\n"
   ],
   "metadata": {
    "id": "5k52FwP156I6",
    "pycharm": {
     "name": "#%% md\n"
    }
   }
  },
  {
   "cell_type": "markdown",
   "source": [
    "**D_work**\n",
    "\n",
    "Описание статусов относительно работы:\n",
    "- ID — идентификатор социального статуса клиента относительно работы;\n",
    "- COMMENT — расшифровка статуса.\n",
    "\n",
    "\n",
    "**D_pens**\n",
    "\n",
    "Описание статусов относительно пенсии:\n",
    "- ID — идентификатор социального статуса;\n",
    "- COMMENT — расшифровка статуса.\n",
    "\n",
    "\n",
    "**D_clients**\n",
    "\n",
    "Описание данных клиентов:\n",
    "- ID — идентификатор записи;\n",
    "- AGE\t— возраст клиента;\n",
    "- GENDER — пол клиента (1 — мужчина, 0 — женщина);\n",
    "- EDUCATION — образование;\n",
    "- MARITAL_STATUS — семейное положение;\n",
    "- CHILD_TOTAL\t— количество детей клиента;\n",
    "- DEPENDANTS — количество иждивенцев клиента;\n",
    "- SOCSTATUS_WORK_FL\t— социальный статус клиента относительно работы (1 — работает, 0 — не работает);\n",
    "- SOCSTATUS_PENS_FL\t— социальный статус клиента относительно пенсии (1 — пенсионер, 0 — не пенсионер);\n",
    "- REG_ADDRESS_PROVINCE — область регистрации клиента;\n",
    "- FACT_ADDRESS_PROVINCE — область фактического пребывания клиента;\n",
    "- POSTAL_ADDRESS_PROVINCE — почтовый адрес области;\n",
    "- FL_PRESENCE_FL — наличие в собственности квартиры (1 — есть, 0 — нет);\n",
    "- OWN_AUTO — количество автомобилей в собственности.\n",
    "\n",
    "\n",
    "**D_agreement**\n",
    "\n",
    "Таблица с зафиксированными откликами клиентов на предложения банка:\n",
    "- AGREEMENT_RK — уникальный идентификатор объекта в выборке;\n",
    "- ID_CLIENT — идентификатор клиента;\n",
    "- TARGET — целевая переменная: отклик на маркетинговую кампанию (1 — отклик был зарегистрирован, 0 — отклика не было).\n",
    "    \n",
    "    \n",
    "**D_job**\n",
    "\n",
    "Описание информации о работе клиентов:\n",
    "- GEN_INDUSTRY — отрасль работы клиента;\n",
    "- GEN_TITLE — должность;\n",
    "- JOB_DIR — направление деятельности внутри компании;\n",
    "- WORK_TIME — время работы на текущем месте (в месяцах);\n",
    "- ID_CLIENT — идентификатор клиента.\n",
    "\n",
    "\n",
    "**D_salary**\n",
    "\n",
    "Описание информации о заработной плате клиентов:\n",
    "- ID_CLIENT — идентификатор клиента;\n",
    "- FAMILY_INCOME — семейный доход (несколько категорий);\n",
    "- PERSONAL_INCOME — личный доход клиента (в рублях).\n",
    "\n",
    "\n",
    "**D_last_credit**\n",
    "\n",
    "Информация о последнем займе клиента:\n",
    "- ID_CLIENT — идентификатор клиента;\n",
    "- CREDIT — сумма последнего кредита клиента (в рублях);\n",
    "- TERM — срок кредита;\n",
    "- FST_PAYMENT — первоначальный взнос (в рублях).\n",
    "\n",
    "\n",
    "**D_loan**\n",
    "\n",
    "Информация о кредитной истории клиента:\n",
    "- ID_CLIENT — идентификатор клиента;\n",
    "- ID_LOAN — идентификатор кредита.\n",
    "\n",
    "**D_close_loan**\n",
    "\n",
    "Информация о статусах кредита (ссуд):\n",
    "- ID_LOAN — идентификатор кредита;\n",
    "- CLOSED_FL — текущий статус кредита (1 — закрыт, 0 — не закрыт)."
   ],
   "metadata": {
    "id": "3HYLpuwA6dAw",
    "pycharm": {
     "name": "#%% md\n"
    }
   }
  },
  {
   "cell_type": "markdown",
   "source": [
    "Ниже представлен минимальный список колонок, которые должны находиться в итоговом датасете после склейки и агрегации данных. По своему усмотрению вы можете добавить дополнительные к этим колонки."
   ],
   "metadata": {
    "id": "aSCbvJeMKegU",
    "pycharm": {
     "name": "#%% md\n"
    }
   }
  },
  {
   "cell_type": "markdown",
   "source": [
    "    - AGREEMENT_RK — уникальный идентификатор объекта в выборке;\n",
    "    - TARGET — целевая переменная: отклик на маркетинговую кампанию (1 — отклик был зарегистрирован, 0 — отклика не было);\n",
    "    - AGE — возраст клиента;\n",
    "    - SOCSTATUS_WORK_FL — социальный статус клиента относительно работы (1 — работает, 0 — не работает);\n",
    "    - SOCSTATUS_PENS_FL — социальный статус клиента относительно пенсии (1 — пенсионер, 0 — не пенсионер);\n",
    "    - GENDER — пол клиента (1 — мужчина, 0 — женщина);\n",
    "    - CHILD_TOTAL — количество детей клиента;\n",
    "    - DEPENDANTS — количество иждивенцев клиента;\n",
    "    - PERSONAL_INCOME — личный доход клиента (в рублях);\n",
    "    - LOAN_NUM_TOTAL — количество ссуд клиента;\n",
    "    - LOAN_NUM_CLOSED — количество погашенных ссуд клиента.\n"
   ],
   "metadata": {
    "id": "xDZKZYCtmbwi",
    "pycharm": {
     "name": "#%% md\n"
    }
   }
  },
  {
   "cell_type": "markdown",
   "source": [
    "Будьте внимательны при сборке датасета: это реальные банковские данные, в которых могут наблюдаться дубли, некорректно заполненные значения или значения, противоречащие друг другу. Для получения качественной модели необходимо предварительно очистить датасет от такой информации."
   ],
   "metadata": {
    "id": "EDpojLFeAw2Y",
    "pycharm": {
     "name": "#%% md\n"
    }
   }
  },
  {
   "cell_type": "markdown",
   "source": [
    "## Задание 1\n",
    "\n",
    "Соберите всю информацию о клиентах в одну таблицу, где одна строчка соответствует полной информации об одном клиенте."
   ],
   "metadata": {
    "id": "GERgJvyYmQEZ",
    "pycharm": {
     "name": "#%% md\n"
    }
   }
  },
  {
   "cell_type": "code",
   "execution_count": 8,
   "outputs": [],
   "source": [
    "import pandas as pd\n",
    "import numpy as np\n",
    "\n",
    "D_work = pd.read_csv('D_work.csv')\n",
    "D_target = pd.read_csv('D_target.csv')\n",
    "D_salary = pd.read_csv('D_salary.csv')\n",
    "D_pens = pd.read_csv('D_pens.csv')\n",
    "D_loan = pd.read_csv('D_loan.csv')\n",
    "D_last_credit = pd.read_csv('D_last_credit.csv')\n",
    "D_job = pd.read_csv('D_job.csv')\n",
    "D_clients = pd.read_csv('D_clients.csv')\n",
    "D_close_loan = pd.read_csv('D_close_loan.csv')\n"
   ],
   "metadata": {
    "collapsed": false,
    "pycharm": {
     "name": "#%%\n"
    }
   }
  },
  {
   "cell_type": "code",
   "execution_count": 9,
   "outputs": [
    {
     "data": {
      "text/plain": "   AGREEMENT_RK  ID_CLIENT  TARGET\n0      59910150  106804370       0\n1      59910230  106804371       0\n2      59910525  106804372       0\n3      59910803  106804373       0\n4      59911781  106804374       0",
      "text/html": "<div>\n<style scoped>\n    .dataframe tbody tr th:only-of-type {\n        vertical-align: middle;\n    }\n\n    .dataframe tbody tr th {\n        vertical-align: top;\n    }\n\n    .dataframe thead th {\n        text-align: right;\n    }\n</style>\n<table border=\"1\" class=\"dataframe\">\n  <thead>\n    <tr style=\"text-align: right;\">\n      <th></th>\n      <th>AGREEMENT_RK</th>\n      <th>ID_CLIENT</th>\n      <th>TARGET</th>\n    </tr>\n  </thead>\n  <tbody>\n    <tr>\n      <th>0</th>\n      <td>59910150</td>\n      <td>106804370</td>\n      <td>0</td>\n    </tr>\n    <tr>\n      <th>1</th>\n      <td>59910230</td>\n      <td>106804371</td>\n      <td>0</td>\n    </tr>\n    <tr>\n      <th>2</th>\n      <td>59910525</td>\n      <td>106804372</td>\n      <td>0</td>\n    </tr>\n    <tr>\n      <th>3</th>\n      <td>59910803</td>\n      <td>106804373</td>\n      <td>0</td>\n    </tr>\n    <tr>\n      <th>4</th>\n      <td>59911781</td>\n      <td>106804374</td>\n      <td>0</td>\n    </tr>\n  </tbody>\n</table>\n</div>"
     },
     "execution_count": 9,
     "metadata": {},
     "output_type": "execute_result"
    }
   ],
   "source": [
    "D_target.head(5) # таблица Agreement"
   ],
   "metadata": {
    "collapsed": false,
    "pycharm": {
     "name": "#%%\n"
    }
   }
  },
  {
   "cell_type": "markdown",
   "source": [
    "Далее смотрим нужные таблицы на дубликаты. Если такие есть - удаляем."
   ],
   "metadata": {
    "collapsed": false,
    "pycharm": {
     "name": "#%% md\n"
    }
   }
  },
  {
   "cell_type": "code",
   "execution_count": 10,
   "outputs": [
    {
     "name": "stdout",
     "output_type": "stream",
     "text": [
      "0\n",
      "0\n",
      "300\n",
      "0\n",
      "0\n"
     ]
    }
   ],
   "source": [
    "print(D_target.duplicated().sum())\n",
    "print(D_clients.duplicated().sum())\n",
    "print(D_salary.duplicated().sum())\n",
    "print(D_loan.duplicated().sum())\n",
    "print(D_close_loan.duplicated().sum())"
   ],
   "metadata": {
    "collapsed": false,
    "pycharm": {
     "name": "#%%\n"
    }
   }
  },
  {
   "cell_type": "code",
   "execution_count": 11,
   "outputs": [],
   "source": [
    "D_salary = D_salary.drop_duplicates()"
   ],
   "metadata": {
    "collapsed": false,
    "pycharm": {
     "name": "#%%\n"
    }
   }
  },
  {
   "cell_type": "markdown",
   "source": [
    "Собираем основные таблицы:"
   ],
   "metadata": {
    "collapsed": false,
    "pycharm": {
     "name": "#%% md\n"
    }
   }
  },
  {
   "cell_type": "code",
   "execution_count": 12,
   "outputs": [
    {
     "data": {
      "text/plain": "       AGREEMENT_RK  ID_CLIENT  TARGET         ID  AGE  GENDER  \\\n0          59910150  106804370       0  106804370   49       1   \n1          59910230  106804371       0  106804371   32       1   \n2          59910525  106804372       0  106804372   52       1   \n3          59910803  106804373       0  106804373   39       1   \n4          59911781  106804374       0  106804374   30       0   \n...             ...        ...     ...        ...  ...     ...   \n15218      75291424  106819588       0  106819588   25       0   \n15219      75291888  106819589       0  106819589   51       1   \n15220      75291923  106819590       0  106819590   22       1   \n15221      75291960  106819591       0  106819591   60       1   \n15222      75292242  106819592       0  106819592   37       0   \n\n                 EDUCATION      MARITAL_STATUS  CHILD_TOTAL  DEPENDANTS  \\\n0      Среднее специальное      Состою в браке            2           1   \n1                  Среднее      Состою в браке            3           3   \n2         Неполное среднее      Состою в браке            4           0   \n3                   Высшее      Состою в браке            1           1   \n4                  Среднее      Состою в браке            0           0   \n...                    ...                 ...          ...         ...   \n15218              Среднее      Состою в браке            1           1   \n15219  Среднее специальное      Состою в браке            2           0   \n15220              Среднее  Не состоял в браке            1           1   \n15221              Среднее        Вдовец/Вдова            2           0   \n15222              Среднее      Состою в браке            2           0   \n\n       SOCSTATUS_WORK_FL  SOCSTATUS_PENS_FL  REG_ADDRESS_PROVINCE  \\\n0                      1                  0  Оренбургская область   \n1                      1                  0    Кабардино-Балкария   \n2                      1                  0     Иркутская область   \n3                      1                  0    Ростовская область   \n4                      1                  0    Кабардино-Балкария   \n...                  ...                ...                   ...   \n15218                  1                  0   Воронежская область   \n15219                  1                  0              Башкирия   \n15220                  1                  0      Брянская область   \n15221                  0                  1       Приморский край   \n15222                  1                  0    Карачаево-Черкесия   \n\n      FACT_ADDRESS_PROVINCE POSTAL_ADDRESS_PROVINCE  FL_PRESENCE_FL  OWN_AUTO  \\\n0      Оренбургская область    Оренбургская область               0         0   \n1        Кабардино-Балкария      Кабардино-Балкария               0         0   \n2         Иркутская область       Иркутская область               0         0   \n3        Ростовская область      Ростовская область               1         0   \n4        Кабардино-Балкария      Кабардино-Балкария               0         0   \n...                     ...                     ...             ...       ...   \n15218   Воронежская область     Воронежская область               0         0   \n15219              Башкирия                Башкирия               0         0   \n15220      Брянская область        Брянская область               0         0   \n15221       Приморский край         Приморский край               1         0   \n15222    Карачаево-Черкесия      Карачаево-Черкесия               0         0   \n\n                FAMILY_INCOME  PERSONAL_INCOME  \n0      от 10000 до 20000 руб.           5000.0  \n1      от 10000 до 20000 руб.          12000.0  \n2      от 10000 до 20000 руб.           9000.0  \n3      от 20000 до 50000 руб.          25000.0  \n4      от 10000 до 20000 руб.          12000.0  \n...                       ...              ...  \n15218  от 10000 до 20000 руб.          12000.0  \n15219  от 20000 до 50000 руб.          10000.0  \n15220   от 5000 до 10000 руб.           6000.0  \n15221  от 10000 до 20000 руб.           4500.0  \n15222  от 20000 до 50000 руб.          20000.0  \n\n[15223 rows x 19 columns]",
      "text/html": "<div>\n<style scoped>\n    .dataframe tbody tr th:only-of-type {\n        vertical-align: middle;\n    }\n\n    .dataframe tbody tr th {\n        vertical-align: top;\n    }\n\n    .dataframe thead th {\n        text-align: right;\n    }\n</style>\n<table border=\"1\" class=\"dataframe\">\n  <thead>\n    <tr style=\"text-align: right;\">\n      <th></th>\n      <th>AGREEMENT_RK</th>\n      <th>ID_CLIENT</th>\n      <th>TARGET</th>\n      <th>ID</th>\n      <th>AGE</th>\n      <th>GENDER</th>\n      <th>EDUCATION</th>\n      <th>MARITAL_STATUS</th>\n      <th>CHILD_TOTAL</th>\n      <th>DEPENDANTS</th>\n      <th>SOCSTATUS_WORK_FL</th>\n      <th>SOCSTATUS_PENS_FL</th>\n      <th>REG_ADDRESS_PROVINCE</th>\n      <th>FACT_ADDRESS_PROVINCE</th>\n      <th>POSTAL_ADDRESS_PROVINCE</th>\n      <th>FL_PRESENCE_FL</th>\n      <th>OWN_AUTO</th>\n      <th>FAMILY_INCOME</th>\n      <th>PERSONAL_INCOME</th>\n    </tr>\n  </thead>\n  <tbody>\n    <tr>\n      <th>0</th>\n      <td>59910150</td>\n      <td>106804370</td>\n      <td>0</td>\n      <td>106804370</td>\n      <td>49</td>\n      <td>1</td>\n      <td>Среднее специальное</td>\n      <td>Состою в браке</td>\n      <td>2</td>\n      <td>1</td>\n      <td>1</td>\n      <td>0</td>\n      <td>Оренбургская область</td>\n      <td>Оренбургская область</td>\n      <td>Оренбургская область</td>\n      <td>0</td>\n      <td>0</td>\n      <td>от 10000 до 20000 руб.</td>\n      <td>5000.0</td>\n    </tr>\n    <tr>\n      <th>1</th>\n      <td>59910230</td>\n      <td>106804371</td>\n      <td>0</td>\n      <td>106804371</td>\n      <td>32</td>\n      <td>1</td>\n      <td>Среднее</td>\n      <td>Состою в браке</td>\n      <td>3</td>\n      <td>3</td>\n      <td>1</td>\n      <td>0</td>\n      <td>Кабардино-Балкария</td>\n      <td>Кабардино-Балкария</td>\n      <td>Кабардино-Балкария</td>\n      <td>0</td>\n      <td>0</td>\n      <td>от 10000 до 20000 руб.</td>\n      <td>12000.0</td>\n    </tr>\n    <tr>\n      <th>2</th>\n      <td>59910525</td>\n      <td>106804372</td>\n      <td>0</td>\n      <td>106804372</td>\n      <td>52</td>\n      <td>1</td>\n      <td>Неполное среднее</td>\n      <td>Состою в браке</td>\n      <td>4</td>\n      <td>0</td>\n      <td>1</td>\n      <td>0</td>\n      <td>Иркутская область</td>\n      <td>Иркутская область</td>\n      <td>Иркутская область</td>\n      <td>0</td>\n      <td>0</td>\n      <td>от 10000 до 20000 руб.</td>\n      <td>9000.0</td>\n    </tr>\n    <tr>\n      <th>3</th>\n      <td>59910803</td>\n      <td>106804373</td>\n      <td>0</td>\n      <td>106804373</td>\n      <td>39</td>\n      <td>1</td>\n      <td>Высшее</td>\n      <td>Состою в браке</td>\n      <td>1</td>\n      <td>1</td>\n      <td>1</td>\n      <td>0</td>\n      <td>Ростовская область</td>\n      <td>Ростовская область</td>\n      <td>Ростовская область</td>\n      <td>1</td>\n      <td>0</td>\n      <td>от 20000 до 50000 руб.</td>\n      <td>25000.0</td>\n    </tr>\n    <tr>\n      <th>4</th>\n      <td>59911781</td>\n      <td>106804374</td>\n      <td>0</td>\n      <td>106804374</td>\n      <td>30</td>\n      <td>0</td>\n      <td>Среднее</td>\n      <td>Состою в браке</td>\n      <td>0</td>\n      <td>0</td>\n      <td>1</td>\n      <td>0</td>\n      <td>Кабардино-Балкария</td>\n      <td>Кабардино-Балкария</td>\n      <td>Кабардино-Балкария</td>\n      <td>0</td>\n      <td>0</td>\n      <td>от 10000 до 20000 руб.</td>\n      <td>12000.0</td>\n    </tr>\n    <tr>\n      <th>...</th>\n      <td>...</td>\n      <td>...</td>\n      <td>...</td>\n      <td>...</td>\n      <td>...</td>\n      <td>...</td>\n      <td>...</td>\n      <td>...</td>\n      <td>...</td>\n      <td>...</td>\n      <td>...</td>\n      <td>...</td>\n      <td>...</td>\n      <td>...</td>\n      <td>...</td>\n      <td>...</td>\n      <td>...</td>\n      <td>...</td>\n      <td>...</td>\n    </tr>\n    <tr>\n      <th>15218</th>\n      <td>75291424</td>\n      <td>106819588</td>\n      <td>0</td>\n      <td>106819588</td>\n      <td>25</td>\n      <td>0</td>\n      <td>Среднее</td>\n      <td>Состою в браке</td>\n      <td>1</td>\n      <td>1</td>\n      <td>1</td>\n      <td>0</td>\n      <td>Воронежская область</td>\n      <td>Воронежская область</td>\n      <td>Воронежская область</td>\n      <td>0</td>\n      <td>0</td>\n      <td>от 10000 до 20000 руб.</td>\n      <td>12000.0</td>\n    </tr>\n    <tr>\n      <th>15219</th>\n      <td>75291888</td>\n      <td>106819589</td>\n      <td>0</td>\n      <td>106819589</td>\n      <td>51</td>\n      <td>1</td>\n      <td>Среднее специальное</td>\n      <td>Состою в браке</td>\n      <td>2</td>\n      <td>0</td>\n      <td>1</td>\n      <td>0</td>\n      <td>Башкирия</td>\n      <td>Башкирия</td>\n      <td>Башкирия</td>\n      <td>0</td>\n      <td>0</td>\n      <td>от 20000 до 50000 руб.</td>\n      <td>10000.0</td>\n    </tr>\n    <tr>\n      <th>15220</th>\n      <td>75291923</td>\n      <td>106819590</td>\n      <td>0</td>\n      <td>106819590</td>\n      <td>22</td>\n      <td>1</td>\n      <td>Среднее</td>\n      <td>Не состоял в браке</td>\n      <td>1</td>\n      <td>1</td>\n      <td>1</td>\n      <td>0</td>\n      <td>Брянская область</td>\n      <td>Брянская область</td>\n      <td>Брянская область</td>\n      <td>0</td>\n      <td>0</td>\n      <td>от 5000 до 10000 руб.</td>\n      <td>6000.0</td>\n    </tr>\n    <tr>\n      <th>15221</th>\n      <td>75291960</td>\n      <td>106819591</td>\n      <td>0</td>\n      <td>106819591</td>\n      <td>60</td>\n      <td>1</td>\n      <td>Среднее</td>\n      <td>Вдовец/Вдова</td>\n      <td>2</td>\n      <td>0</td>\n      <td>0</td>\n      <td>1</td>\n      <td>Приморский край</td>\n      <td>Приморский край</td>\n      <td>Приморский край</td>\n      <td>1</td>\n      <td>0</td>\n      <td>от 10000 до 20000 руб.</td>\n      <td>4500.0</td>\n    </tr>\n    <tr>\n      <th>15222</th>\n      <td>75292242</td>\n      <td>106819592</td>\n      <td>0</td>\n      <td>106819592</td>\n      <td>37</td>\n      <td>0</td>\n      <td>Среднее</td>\n      <td>Состою в браке</td>\n      <td>2</td>\n      <td>0</td>\n      <td>1</td>\n      <td>0</td>\n      <td>Карачаево-Черкесия</td>\n      <td>Карачаево-Черкесия</td>\n      <td>Карачаево-Черкесия</td>\n      <td>0</td>\n      <td>0</td>\n      <td>от 20000 до 50000 руб.</td>\n      <td>20000.0</td>\n    </tr>\n  </tbody>\n</table>\n<p>15223 rows × 19 columns</p>\n</div>"
     },
     "execution_count": 12,
     "metadata": {},
     "output_type": "execute_result"
    }
   ],
   "source": [
    "data_client = pd.merge( D_target, D_clients, how = 'inner',  left_on = \"ID_CLIENT\", right_on = \"ID\")\n",
    "data_client = pd.merge( data_client, D_salary, how = 'inner',  left_on = \"ID_CLIENT\", right_on = \"ID_CLIENT\")\n",
    "data_client"
   ],
   "metadata": {
    "collapsed": false,
    "pycharm": {
     "name": "#%%\n"
    }
   }
  },
  {
   "cell_type": "markdown",
   "source": [
    "Собираем таблицы с информацией по всем кредитам на клиенте:"
   ],
   "metadata": {
    "collapsed": false,
    "pycharm": {
     "name": "#%% md\n"
    }
   }
  },
  {
   "cell_type": "code",
   "execution_count": 13,
   "outputs": [
    {
     "data": {
      "text/plain": "          ID_LOAN  ID_CLIENT  CLOSED_FL\n0      1753790658  106804370          1\n1      1753790659  106804371          1\n2      1753790660  106804372          1\n3      1753790661  106804372          0\n4      1753790662  106804373          1\n...           ...        ...        ...\n21121  1753811779  106819588          1\n21122  1753811780  106819589          0\n21123  1753811781  106819590          0\n21124  1753811782  106819591          0\n21125  1753811783  106819592          0\n\n[21126 rows x 3 columns]",
      "text/html": "<div>\n<style scoped>\n    .dataframe tbody tr th:only-of-type {\n        vertical-align: middle;\n    }\n\n    .dataframe tbody tr th {\n        vertical-align: top;\n    }\n\n    .dataframe thead th {\n        text-align: right;\n    }\n</style>\n<table border=\"1\" class=\"dataframe\">\n  <thead>\n    <tr style=\"text-align: right;\">\n      <th></th>\n      <th>ID_LOAN</th>\n      <th>ID_CLIENT</th>\n      <th>CLOSED_FL</th>\n    </tr>\n  </thead>\n  <tbody>\n    <tr>\n      <th>0</th>\n      <td>1753790658</td>\n      <td>106804370</td>\n      <td>1</td>\n    </tr>\n    <tr>\n      <th>1</th>\n      <td>1753790659</td>\n      <td>106804371</td>\n      <td>1</td>\n    </tr>\n    <tr>\n      <th>2</th>\n      <td>1753790660</td>\n      <td>106804372</td>\n      <td>1</td>\n    </tr>\n    <tr>\n      <th>3</th>\n      <td>1753790661</td>\n      <td>106804372</td>\n      <td>0</td>\n    </tr>\n    <tr>\n      <th>4</th>\n      <td>1753790662</td>\n      <td>106804373</td>\n      <td>1</td>\n    </tr>\n    <tr>\n      <th>...</th>\n      <td>...</td>\n      <td>...</td>\n      <td>...</td>\n    </tr>\n    <tr>\n      <th>21121</th>\n      <td>1753811779</td>\n      <td>106819588</td>\n      <td>1</td>\n    </tr>\n    <tr>\n      <th>21122</th>\n      <td>1753811780</td>\n      <td>106819589</td>\n      <td>0</td>\n    </tr>\n    <tr>\n      <th>21123</th>\n      <td>1753811781</td>\n      <td>106819590</td>\n      <td>0</td>\n    </tr>\n    <tr>\n      <th>21124</th>\n      <td>1753811782</td>\n      <td>106819591</td>\n      <td>0</td>\n    </tr>\n    <tr>\n      <th>21125</th>\n      <td>1753811783</td>\n      <td>106819592</td>\n      <td>0</td>\n    </tr>\n  </tbody>\n</table>\n<p>21126 rows × 3 columns</p>\n</div>"
     },
     "execution_count": 13,
     "metadata": {},
     "output_type": "execute_result"
    }
   ],
   "source": [
    "loan = pd.merge(D_loan, D_close_loan, on = 'ID_LOAN')\n",
    "loan_all = loan[['ID_LOAN','ID_CLIENT']].groupby('ID_CLIENT').count()\n",
    "loan_closed = loan[['ID_CLIENT','CLOSED_FL']].groupby('ID_CLIENT').sum()\n",
    "loan"
   ],
   "metadata": {
    "collapsed": false,
    "pycharm": {
     "name": "#%%\n"
    }
   }
  },
  {
   "cell_type": "code",
   "execution_count": 14,
   "outputs": [
    {
     "data": {
      "text/plain": "           LOAN_NUM_CLOSED\nID_CLIENT                 \n106804370                1\n106804371                1\n106804372                1\n106804373                1\n106804374                1\n...                    ...\n106819588                2\n106819589                0\n106819590                0\n106819591                0\n106819592                0\n\n[15223 rows x 1 columns]",
      "text/html": "<div>\n<style scoped>\n    .dataframe tbody tr th:only-of-type {\n        vertical-align: middle;\n    }\n\n    .dataframe tbody tr th {\n        vertical-align: top;\n    }\n\n    .dataframe thead th {\n        text-align: right;\n    }\n</style>\n<table border=\"1\" class=\"dataframe\">\n  <thead>\n    <tr style=\"text-align: right;\">\n      <th></th>\n      <th>LOAN_NUM_CLOSED</th>\n    </tr>\n    <tr>\n      <th>ID_CLIENT</th>\n      <th></th>\n    </tr>\n  </thead>\n  <tbody>\n    <tr>\n      <th>106804370</th>\n      <td>1</td>\n    </tr>\n    <tr>\n      <th>106804371</th>\n      <td>1</td>\n    </tr>\n    <tr>\n      <th>106804372</th>\n      <td>1</td>\n    </tr>\n    <tr>\n      <th>106804373</th>\n      <td>1</td>\n    </tr>\n    <tr>\n      <th>106804374</th>\n      <td>1</td>\n    </tr>\n    <tr>\n      <th>...</th>\n      <td>...</td>\n    </tr>\n    <tr>\n      <th>106819588</th>\n      <td>2</td>\n    </tr>\n    <tr>\n      <th>106819589</th>\n      <td>0</td>\n    </tr>\n    <tr>\n      <th>106819590</th>\n      <td>0</td>\n    </tr>\n    <tr>\n      <th>106819591</th>\n      <td>0</td>\n    </tr>\n    <tr>\n      <th>106819592</th>\n      <td>0</td>\n    </tr>\n  </tbody>\n</table>\n<p>15223 rows × 1 columns</p>\n</div>"
     },
     "execution_count": 14,
     "metadata": {},
     "output_type": "execute_result"
    }
   ],
   "source": [
    "loan_closed = loan_closed.rename(columns = {'CLOSED_FL':'LOAN_NUM_CLOSED'})\n",
    "loan_closed"
   ],
   "metadata": {
    "collapsed": false,
    "pycharm": {
     "name": "#%%\n"
    }
   }
  },
  {
   "cell_type": "code",
   "execution_count": 15,
   "outputs": [
    {
     "data": {
      "text/plain": "           LOAN_NUM_TOTAL\nID_CLIENT                \n106804370               1\n106804371               1\n106804372               2\n106804373               1\n106804374               2\n...                   ...\n106819588               3\n106819589               1\n106819590               1\n106819591               1\n106819592               1\n\n[15223 rows x 1 columns]",
      "text/html": "<div>\n<style scoped>\n    .dataframe tbody tr th:only-of-type {\n        vertical-align: middle;\n    }\n\n    .dataframe tbody tr th {\n        vertical-align: top;\n    }\n\n    .dataframe thead th {\n        text-align: right;\n    }\n</style>\n<table border=\"1\" class=\"dataframe\">\n  <thead>\n    <tr style=\"text-align: right;\">\n      <th></th>\n      <th>LOAN_NUM_TOTAL</th>\n    </tr>\n    <tr>\n      <th>ID_CLIENT</th>\n      <th></th>\n    </tr>\n  </thead>\n  <tbody>\n    <tr>\n      <th>106804370</th>\n      <td>1</td>\n    </tr>\n    <tr>\n      <th>106804371</th>\n      <td>1</td>\n    </tr>\n    <tr>\n      <th>106804372</th>\n      <td>2</td>\n    </tr>\n    <tr>\n      <th>106804373</th>\n      <td>1</td>\n    </tr>\n    <tr>\n      <th>106804374</th>\n      <td>2</td>\n    </tr>\n    <tr>\n      <th>...</th>\n      <td>...</td>\n    </tr>\n    <tr>\n      <th>106819588</th>\n      <td>3</td>\n    </tr>\n    <tr>\n      <th>106819589</th>\n      <td>1</td>\n    </tr>\n    <tr>\n      <th>106819590</th>\n      <td>1</td>\n    </tr>\n    <tr>\n      <th>106819591</th>\n      <td>1</td>\n    </tr>\n    <tr>\n      <th>106819592</th>\n      <td>1</td>\n    </tr>\n  </tbody>\n</table>\n<p>15223 rows × 1 columns</p>\n</div>"
     },
     "execution_count": 15,
     "metadata": {},
     "output_type": "execute_result"
    }
   ],
   "source": [
    "loan_all =loan_all.rename(columns = {'ID_LOAN':'LOAN_NUM_TOTAL'})\n",
    "loan_all"
   ],
   "metadata": {
    "collapsed": false,
    "pycharm": {
     "name": "#%%\n"
    }
   }
  },
  {
   "cell_type": "code",
   "execution_count": 16,
   "outputs": [],
   "source": [
    "data_client = pd.merge( data_client, loan_all, how = 'inner',  left_on = \"ID_CLIENT\", right_on = \"ID_CLIENT\")\n",
    "data_client = pd.merge( data_client, loan_closed, how = 'inner',  left_on = \"ID_CLIENT\", right_on = \"ID_CLIENT\")"
   ],
   "metadata": {
    "collapsed": false,
    "pycharm": {
     "name": "#%%\n"
    }
   }
  },
  {
   "cell_type": "code",
   "execution_count": 17,
   "outputs": [
    {
     "data": {
      "text/plain": "       AGREEMENT_RK  ID_CLIENT  TARGET         ID  AGE  GENDER  \\\n0          59910150  106804370       0  106804370   49       1   \n1          59910230  106804371       0  106804371   32       1   \n2          59910525  106804372       0  106804372   52       1   \n3          59910803  106804373       0  106804373   39       1   \n4          59911781  106804374       0  106804374   30       0   \n...             ...        ...     ...        ...  ...     ...   \n15218      75291424  106819588       0  106819588   25       0   \n15219      75291888  106819589       0  106819589   51       1   \n15220      75291923  106819590       0  106819590   22       1   \n15221      75291960  106819591       0  106819591   60       1   \n15222      75292242  106819592       0  106819592   37       0   \n\n                 EDUCATION      MARITAL_STATUS  CHILD_TOTAL  DEPENDANTS  ...  \\\n0      Среднее специальное      Состою в браке            2           1  ...   \n1                  Среднее      Состою в браке            3           3  ...   \n2         Неполное среднее      Состою в браке            4           0  ...   \n3                   Высшее      Состою в браке            1           1  ...   \n4                  Среднее      Состою в браке            0           0  ...   \n...                    ...                 ...          ...         ...  ...   \n15218              Среднее      Состою в браке            1           1  ...   \n15219  Среднее специальное      Состою в браке            2           0  ...   \n15220              Среднее  Не состоял в браке            1           1  ...   \n15221              Среднее        Вдовец/Вдова            2           0  ...   \n15222              Среднее      Состою в браке            2           0  ...   \n\n       SOCSTATUS_PENS_FL  REG_ADDRESS_PROVINCE FACT_ADDRESS_PROVINCE  \\\n0                      0  Оренбургская область  Оренбургская область   \n1                      0    Кабардино-Балкария    Кабардино-Балкария   \n2                      0     Иркутская область     Иркутская область   \n3                      0    Ростовская область    Ростовская область   \n4                      0    Кабардино-Балкария    Кабардино-Балкария   \n...                  ...                   ...                   ...   \n15218                  0   Воронежская область   Воронежская область   \n15219                  0              Башкирия              Башкирия   \n15220                  0      Брянская область      Брянская область   \n15221                  1       Приморский край       Приморский край   \n15222                  0    Карачаево-Черкесия    Карачаево-Черкесия   \n\n      POSTAL_ADDRESS_PROVINCE FL_PRESENCE_FL  OWN_AUTO  \\\n0        Оренбургская область              0         0   \n1          Кабардино-Балкария              0         0   \n2           Иркутская область              0         0   \n3          Ростовская область              1         0   \n4          Кабардино-Балкария              0         0   \n...                       ...            ...       ...   \n15218     Воронежская область              0         0   \n15219                Башкирия              0         0   \n15220        Брянская область              0         0   \n15221         Приморский край              1         0   \n15222      Карачаево-Черкесия              0         0   \n\n                FAMILY_INCOME PERSONAL_INCOME  LOAN_NUM_TOTAL  LOAN_NUM_CLOSED  \n0      от 10000 до 20000 руб.          5000.0               1                1  \n1      от 10000 до 20000 руб.         12000.0               1                1  \n2      от 10000 до 20000 руб.          9000.0               2                1  \n3      от 20000 до 50000 руб.         25000.0               1                1  \n4      от 10000 до 20000 руб.         12000.0               2                1  \n...                       ...             ...             ...              ...  \n15218  от 10000 до 20000 руб.         12000.0               3                2  \n15219  от 20000 до 50000 руб.         10000.0               1                0  \n15220   от 5000 до 10000 руб.          6000.0               1                0  \n15221  от 10000 до 20000 руб.          4500.0               1                0  \n15222  от 20000 до 50000 руб.         20000.0               1                0  \n\n[15223 rows x 21 columns]",
      "text/html": "<div>\n<style scoped>\n    .dataframe tbody tr th:only-of-type {\n        vertical-align: middle;\n    }\n\n    .dataframe tbody tr th {\n        vertical-align: top;\n    }\n\n    .dataframe thead th {\n        text-align: right;\n    }\n</style>\n<table border=\"1\" class=\"dataframe\">\n  <thead>\n    <tr style=\"text-align: right;\">\n      <th></th>\n      <th>AGREEMENT_RK</th>\n      <th>ID_CLIENT</th>\n      <th>TARGET</th>\n      <th>ID</th>\n      <th>AGE</th>\n      <th>GENDER</th>\n      <th>EDUCATION</th>\n      <th>MARITAL_STATUS</th>\n      <th>CHILD_TOTAL</th>\n      <th>DEPENDANTS</th>\n      <th>...</th>\n      <th>SOCSTATUS_PENS_FL</th>\n      <th>REG_ADDRESS_PROVINCE</th>\n      <th>FACT_ADDRESS_PROVINCE</th>\n      <th>POSTAL_ADDRESS_PROVINCE</th>\n      <th>FL_PRESENCE_FL</th>\n      <th>OWN_AUTO</th>\n      <th>FAMILY_INCOME</th>\n      <th>PERSONAL_INCOME</th>\n      <th>LOAN_NUM_TOTAL</th>\n      <th>LOAN_NUM_CLOSED</th>\n    </tr>\n  </thead>\n  <tbody>\n    <tr>\n      <th>0</th>\n      <td>59910150</td>\n      <td>106804370</td>\n      <td>0</td>\n      <td>106804370</td>\n      <td>49</td>\n      <td>1</td>\n      <td>Среднее специальное</td>\n      <td>Состою в браке</td>\n      <td>2</td>\n      <td>1</td>\n      <td>...</td>\n      <td>0</td>\n      <td>Оренбургская область</td>\n      <td>Оренбургская область</td>\n      <td>Оренбургская область</td>\n      <td>0</td>\n      <td>0</td>\n      <td>от 10000 до 20000 руб.</td>\n      <td>5000.0</td>\n      <td>1</td>\n      <td>1</td>\n    </tr>\n    <tr>\n      <th>1</th>\n      <td>59910230</td>\n      <td>106804371</td>\n      <td>0</td>\n      <td>106804371</td>\n      <td>32</td>\n      <td>1</td>\n      <td>Среднее</td>\n      <td>Состою в браке</td>\n      <td>3</td>\n      <td>3</td>\n      <td>...</td>\n      <td>0</td>\n      <td>Кабардино-Балкария</td>\n      <td>Кабардино-Балкария</td>\n      <td>Кабардино-Балкария</td>\n      <td>0</td>\n      <td>0</td>\n      <td>от 10000 до 20000 руб.</td>\n      <td>12000.0</td>\n      <td>1</td>\n      <td>1</td>\n    </tr>\n    <tr>\n      <th>2</th>\n      <td>59910525</td>\n      <td>106804372</td>\n      <td>0</td>\n      <td>106804372</td>\n      <td>52</td>\n      <td>1</td>\n      <td>Неполное среднее</td>\n      <td>Состою в браке</td>\n      <td>4</td>\n      <td>0</td>\n      <td>...</td>\n      <td>0</td>\n      <td>Иркутская область</td>\n      <td>Иркутская область</td>\n      <td>Иркутская область</td>\n      <td>0</td>\n      <td>0</td>\n      <td>от 10000 до 20000 руб.</td>\n      <td>9000.0</td>\n      <td>2</td>\n      <td>1</td>\n    </tr>\n    <tr>\n      <th>3</th>\n      <td>59910803</td>\n      <td>106804373</td>\n      <td>0</td>\n      <td>106804373</td>\n      <td>39</td>\n      <td>1</td>\n      <td>Высшее</td>\n      <td>Состою в браке</td>\n      <td>1</td>\n      <td>1</td>\n      <td>...</td>\n      <td>0</td>\n      <td>Ростовская область</td>\n      <td>Ростовская область</td>\n      <td>Ростовская область</td>\n      <td>1</td>\n      <td>0</td>\n      <td>от 20000 до 50000 руб.</td>\n      <td>25000.0</td>\n      <td>1</td>\n      <td>1</td>\n    </tr>\n    <tr>\n      <th>4</th>\n      <td>59911781</td>\n      <td>106804374</td>\n      <td>0</td>\n      <td>106804374</td>\n      <td>30</td>\n      <td>0</td>\n      <td>Среднее</td>\n      <td>Состою в браке</td>\n      <td>0</td>\n      <td>0</td>\n      <td>...</td>\n      <td>0</td>\n      <td>Кабардино-Балкария</td>\n      <td>Кабардино-Балкария</td>\n      <td>Кабардино-Балкария</td>\n      <td>0</td>\n      <td>0</td>\n      <td>от 10000 до 20000 руб.</td>\n      <td>12000.0</td>\n      <td>2</td>\n      <td>1</td>\n    </tr>\n    <tr>\n      <th>...</th>\n      <td>...</td>\n      <td>...</td>\n      <td>...</td>\n      <td>...</td>\n      <td>...</td>\n      <td>...</td>\n      <td>...</td>\n      <td>...</td>\n      <td>...</td>\n      <td>...</td>\n      <td>...</td>\n      <td>...</td>\n      <td>...</td>\n      <td>...</td>\n      <td>...</td>\n      <td>...</td>\n      <td>...</td>\n      <td>...</td>\n      <td>...</td>\n      <td>...</td>\n      <td>...</td>\n    </tr>\n    <tr>\n      <th>15218</th>\n      <td>75291424</td>\n      <td>106819588</td>\n      <td>0</td>\n      <td>106819588</td>\n      <td>25</td>\n      <td>0</td>\n      <td>Среднее</td>\n      <td>Состою в браке</td>\n      <td>1</td>\n      <td>1</td>\n      <td>...</td>\n      <td>0</td>\n      <td>Воронежская область</td>\n      <td>Воронежская область</td>\n      <td>Воронежская область</td>\n      <td>0</td>\n      <td>0</td>\n      <td>от 10000 до 20000 руб.</td>\n      <td>12000.0</td>\n      <td>3</td>\n      <td>2</td>\n    </tr>\n    <tr>\n      <th>15219</th>\n      <td>75291888</td>\n      <td>106819589</td>\n      <td>0</td>\n      <td>106819589</td>\n      <td>51</td>\n      <td>1</td>\n      <td>Среднее специальное</td>\n      <td>Состою в браке</td>\n      <td>2</td>\n      <td>0</td>\n      <td>...</td>\n      <td>0</td>\n      <td>Башкирия</td>\n      <td>Башкирия</td>\n      <td>Башкирия</td>\n      <td>0</td>\n      <td>0</td>\n      <td>от 20000 до 50000 руб.</td>\n      <td>10000.0</td>\n      <td>1</td>\n      <td>0</td>\n    </tr>\n    <tr>\n      <th>15220</th>\n      <td>75291923</td>\n      <td>106819590</td>\n      <td>0</td>\n      <td>106819590</td>\n      <td>22</td>\n      <td>1</td>\n      <td>Среднее</td>\n      <td>Не состоял в браке</td>\n      <td>1</td>\n      <td>1</td>\n      <td>...</td>\n      <td>0</td>\n      <td>Брянская область</td>\n      <td>Брянская область</td>\n      <td>Брянская область</td>\n      <td>0</td>\n      <td>0</td>\n      <td>от 5000 до 10000 руб.</td>\n      <td>6000.0</td>\n      <td>1</td>\n      <td>0</td>\n    </tr>\n    <tr>\n      <th>15221</th>\n      <td>75291960</td>\n      <td>106819591</td>\n      <td>0</td>\n      <td>106819591</td>\n      <td>60</td>\n      <td>1</td>\n      <td>Среднее</td>\n      <td>Вдовец/Вдова</td>\n      <td>2</td>\n      <td>0</td>\n      <td>...</td>\n      <td>1</td>\n      <td>Приморский край</td>\n      <td>Приморский край</td>\n      <td>Приморский край</td>\n      <td>1</td>\n      <td>0</td>\n      <td>от 10000 до 20000 руб.</td>\n      <td>4500.0</td>\n      <td>1</td>\n      <td>0</td>\n    </tr>\n    <tr>\n      <th>15222</th>\n      <td>75292242</td>\n      <td>106819592</td>\n      <td>0</td>\n      <td>106819592</td>\n      <td>37</td>\n      <td>0</td>\n      <td>Среднее</td>\n      <td>Состою в браке</td>\n      <td>2</td>\n      <td>0</td>\n      <td>...</td>\n      <td>0</td>\n      <td>Карачаево-Черкесия</td>\n      <td>Карачаево-Черкесия</td>\n      <td>Карачаево-Черкесия</td>\n      <td>0</td>\n      <td>0</td>\n      <td>от 20000 до 50000 руб.</td>\n      <td>20000.0</td>\n      <td>1</td>\n      <td>0</td>\n    </tr>\n  </tbody>\n</table>\n<p>15223 rows × 21 columns</p>\n</div>"
     },
     "execution_count": 17,
     "metadata": {},
     "output_type": "execute_result"
    }
   ],
   "source": [
    "data_client"
   ],
   "metadata": {
    "collapsed": false,
    "pycharm": {
     "name": "#%%\n"
    }
   }
  },
  {
   "cell_type": "markdown",
   "source": [
    "Итоговый датасет:"
   ],
   "metadata": {
    "collapsed": false,
    "pycharm": {
     "name": "#%% md\n"
    }
   }
  },
  {
   "cell_type": "code",
   "execution_count": 18,
   "outputs": [
    {
     "data": {
      "text/plain": "       AGREEMENT_RK  TARGET  AGE  GENDER  CHILD_TOTAL  DEPENDANTS  \\\n0          59910150       0   49       1            2           1   \n1          59910230       0   32       1            3           3   \n2          59910525       0   52       1            4           0   \n3          59910803       0   39       1            1           1   \n4          59911781       0   30       0            0           0   \n...             ...     ...  ...     ...          ...         ...   \n15218      75291424       0   25       0            1           1   \n15219      75291888       0   51       1            2           0   \n15220      75291923       0   22       1            1           1   \n15221      75291960       0   60       1            2           0   \n15222      75292242       0   37       0            2           0   \n\n       SOCSTATUS_WORK_FL  SOCSTATUS_PENS_FL  PERS_INCOME  LOAN_NUM_TOTAL  \\\n0                      1                  0       5000.0               1   \n1                      1                  0      12000.0               1   \n2                      1                  0       9000.0               2   \n3                      1                  0      25000.0               1   \n4                      1                  0      12000.0               2   \n...                  ...                ...          ...             ...   \n15218                  1                  0      12000.0               3   \n15219                  1                  0      10000.0               1   \n15220                  1                  0       6000.0               1   \n15221                  0                  1       4500.0               1   \n15222                  1                  0      20000.0               1   \n\n       LOAN_NUM_CLOSED  \n0                    1  \n1                    1  \n2                    1  \n3                    1  \n4                    1  \n...                ...  \n15218                2  \n15219                0  \n15220                0  \n15221                0  \n15222                0  \n\n[15223 rows x 11 columns]",
      "text/html": "<div>\n<style scoped>\n    .dataframe tbody tr th:only-of-type {\n        vertical-align: middle;\n    }\n\n    .dataframe tbody tr th {\n        vertical-align: top;\n    }\n\n    .dataframe thead th {\n        text-align: right;\n    }\n</style>\n<table border=\"1\" class=\"dataframe\">\n  <thead>\n    <tr style=\"text-align: right;\">\n      <th></th>\n      <th>AGREEMENT_RK</th>\n      <th>TARGET</th>\n      <th>AGE</th>\n      <th>GENDER</th>\n      <th>CHILD_TOTAL</th>\n      <th>DEPENDANTS</th>\n      <th>SOCSTATUS_WORK_FL</th>\n      <th>SOCSTATUS_PENS_FL</th>\n      <th>PERS_INCOME</th>\n      <th>LOAN_NUM_TOTAL</th>\n      <th>LOAN_NUM_CLOSED</th>\n    </tr>\n  </thead>\n  <tbody>\n    <tr>\n      <th>0</th>\n      <td>59910150</td>\n      <td>0</td>\n      <td>49</td>\n      <td>1</td>\n      <td>2</td>\n      <td>1</td>\n      <td>1</td>\n      <td>0</td>\n      <td>5000.0</td>\n      <td>1</td>\n      <td>1</td>\n    </tr>\n    <tr>\n      <th>1</th>\n      <td>59910230</td>\n      <td>0</td>\n      <td>32</td>\n      <td>1</td>\n      <td>3</td>\n      <td>3</td>\n      <td>1</td>\n      <td>0</td>\n      <td>12000.0</td>\n      <td>1</td>\n      <td>1</td>\n    </tr>\n    <tr>\n      <th>2</th>\n      <td>59910525</td>\n      <td>0</td>\n      <td>52</td>\n      <td>1</td>\n      <td>4</td>\n      <td>0</td>\n      <td>1</td>\n      <td>0</td>\n      <td>9000.0</td>\n      <td>2</td>\n      <td>1</td>\n    </tr>\n    <tr>\n      <th>3</th>\n      <td>59910803</td>\n      <td>0</td>\n      <td>39</td>\n      <td>1</td>\n      <td>1</td>\n      <td>1</td>\n      <td>1</td>\n      <td>0</td>\n      <td>25000.0</td>\n      <td>1</td>\n      <td>1</td>\n    </tr>\n    <tr>\n      <th>4</th>\n      <td>59911781</td>\n      <td>0</td>\n      <td>30</td>\n      <td>0</td>\n      <td>0</td>\n      <td>0</td>\n      <td>1</td>\n      <td>0</td>\n      <td>12000.0</td>\n      <td>2</td>\n      <td>1</td>\n    </tr>\n    <tr>\n      <th>...</th>\n      <td>...</td>\n      <td>...</td>\n      <td>...</td>\n      <td>...</td>\n      <td>...</td>\n      <td>...</td>\n      <td>...</td>\n      <td>...</td>\n      <td>...</td>\n      <td>...</td>\n      <td>...</td>\n    </tr>\n    <tr>\n      <th>15218</th>\n      <td>75291424</td>\n      <td>0</td>\n      <td>25</td>\n      <td>0</td>\n      <td>1</td>\n      <td>1</td>\n      <td>1</td>\n      <td>0</td>\n      <td>12000.0</td>\n      <td>3</td>\n      <td>2</td>\n    </tr>\n    <tr>\n      <th>15219</th>\n      <td>75291888</td>\n      <td>0</td>\n      <td>51</td>\n      <td>1</td>\n      <td>2</td>\n      <td>0</td>\n      <td>1</td>\n      <td>0</td>\n      <td>10000.0</td>\n      <td>1</td>\n      <td>0</td>\n    </tr>\n    <tr>\n      <th>15220</th>\n      <td>75291923</td>\n      <td>0</td>\n      <td>22</td>\n      <td>1</td>\n      <td>1</td>\n      <td>1</td>\n      <td>1</td>\n      <td>0</td>\n      <td>6000.0</td>\n      <td>1</td>\n      <td>0</td>\n    </tr>\n    <tr>\n      <th>15221</th>\n      <td>75291960</td>\n      <td>0</td>\n      <td>60</td>\n      <td>1</td>\n      <td>2</td>\n      <td>0</td>\n      <td>0</td>\n      <td>1</td>\n      <td>4500.0</td>\n      <td>1</td>\n      <td>0</td>\n    </tr>\n    <tr>\n      <th>15222</th>\n      <td>75292242</td>\n      <td>0</td>\n      <td>37</td>\n      <td>0</td>\n      <td>2</td>\n      <td>0</td>\n      <td>1</td>\n      <td>0</td>\n      <td>20000.0</td>\n      <td>1</td>\n      <td>0</td>\n    </tr>\n  </tbody>\n</table>\n<p>15223 rows × 11 columns</p>\n</div>"
     },
     "execution_count": 18,
     "metadata": {},
     "output_type": "execute_result"
    }
   ],
   "source": [
    "data_client = data_client.drop(columns = ['ID', 'ID_CLIENT',  'EDUCATION', 'MARITAL_STATUS', 'REG_ADDRESS_PROVINCE', 'FACT_ADDRESS_PROVINCE', 'POSTAL_ADDRESS_PROVINCE', 'FL_PRESENCE_FL',  'OWN_AUTO', 'FAMILY_INCOME', ])\n",
    "data_client = data_client.rename(columns = {'PERSONAL_INCOME':'PERS_INCOME'})\n",
    "data_client"
   ],
   "metadata": {
    "collapsed": false,
    "pycharm": {
     "name": "#%%\n"
    }
   }
  },
  {
   "cell_type": "markdown",
   "source": [
    "Проверки:"
   ],
   "metadata": {
    "collapsed": false,
    "pycharm": {
     "name": "#%% md\n"
    }
   }
  },
  {
   "cell_type": "code",
   "execution_count": 19,
   "outputs": [
    {
     "data": {
      "text/plain": "0"
     },
     "execution_count": 19,
     "metadata": {},
     "output_type": "execute_result"
    }
   ],
   "source": [
    "data_client.duplicated().sum()"
   ],
   "metadata": {
    "collapsed": false,
    "pycharm": {
     "name": "#%%\n"
    }
   }
  },
  {
   "cell_type": "code",
   "execution_count": 20,
   "outputs": [
    {
     "name": "stdout",
     "output_type": "stream",
     "text": [
      "<class 'pandas.core.frame.DataFrame'>\n",
      "Int64Index: 15223 entries, 0 to 15222\n",
      "Data columns (total 11 columns):\n",
      " #   Column             Non-Null Count  Dtype  \n",
      "---  ------             --------------  -----  \n",
      " 0   AGREEMENT_RK       15223 non-null  int64  \n",
      " 1   TARGET             15223 non-null  int64  \n",
      " 2   AGE                15223 non-null  int64  \n",
      " 3   GENDER             15223 non-null  int64  \n",
      " 4   CHILD_TOTAL        15223 non-null  int64  \n",
      " 5   DEPENDANTS         15223 non-null  int64  \n",
      " 6   SOCSTATUS_WORK_FL  15223 non-null  int64  \n",
      " 7   SOCSTATUS_PENS_FL  15223 non-null  int64  \n",
      " 8   PERS_INCOME        15223 non-null  float64\n",
      " 9   LOAN_NUM_TOTAL     15223 non-null  int64  \n",
      " 10  LOAN_NUM_CLOSED    15223 non-null  int64  \n",
      "dtypes: float64(1), int64(10)\n",
      "memory usage: 1.4 MB\n"
     ]
    }
   ],
   "source": [
    "data_client.info()"
   ],
   "metadata": {
    "collapsed": false,
    "pycharm": {
     "name": "#%%\n"
    }
   }
  },
  {
   "cell_type": "markdown",
   "source": [
    "В итоговом датасете не заменял поля колонок SOCSTATUS_WORK_FL и SOCSTATUS_PENS_FL на значения из таблиц D_pens, D_work, потому что мало категорий в таблицах, но будем иметь в виду что 1 - значит НЕ, а 2 - \"не известно\""
   ],
   "metadata": {
    "collapsed": false,
    "pycharm": {
     "name": "#%% md\n"
    }
   }
  },
  {
   "cell_type": "code",
   "execution_count": 21,
   "outputs": [
    {
     "data": {
      "text/plain": "   ID  FLAG       COMMENT\n0   1     0     пенсионер\n1   2     1  не пенсионер",
      "text/html": "<div>\n<style scoped>\n    .dataframe tbody tr th:only-of-type {\n        vertical-align: middle;\n    }\n\n    .dataframe tbody tr th {\n        vertical-align: top;\n    }\n\n    .dataframe thead th {\n        text-align: right;\n    }\n</style>\n<table border=\"1\" class=\"dataframe\">\n  <thead>\n    <tr style=\"text-align: right;\">\n      <th></th>\n      <th>ID</th>\n      <th>FLAG</th>\n      <th>COMMENT</th>\n    </tr>\n  </thead>\n  <tbody>\n    <tr>\n      <th>0</th>\n      <td>1</td>\n      <td>0</td>\n      <td>пенсионер</td>\n    </tr>\n    <tr>\n      <th>1</th>\n      <td>2</td>\n      <td>1</td>\n      <td>не пенсионер</td>\n    </tr>\n  </tbody>\n</table>\n</div>"
     },
     "execution_count": 21,
     "metadata": {},
     "output_type": "execute_result"
    }
   ],
   "source": [
    "D_pens"
   ],
   "metadata": {
    "collapsed": false,
    "pycharm": {
     "name": "#%%\n"
    }
   }
  },
  {
   "cell_type": "code",
   "execution_count": 22,
   "outputs": [
    {
     "data": {
      "text/plain": "   ID  FLAG      COMMENT\n0   1     0     работает\n1   2     1  не работает\n2   3     2  не известно",
      "text/html": "<div>\n<style scoped>\n    .dataframe tbody tr th:only-of-type {\n        vertical-align: middle;\n    }\n\n    .dataframe tbody tr th {\n        vertical-align: top;\n    }\n\n    .dataframe thead th {\n        text-align: right;\n    }\n</style>\n<table border=\"1\" class=\"dataframe\">\n  <thead>\n    <tr style=\"text-align: right;\">\n      <th></th>\n      <th>ID</th>\n      <th>FLAG</th>\n      <th>COMMENT</th>\n    </tr>\n  </thead>\n  <tbody>\n    <tr>\n      <th>0</th>\n      <td>1</td>\n      <td>0</td>\n      <td>работает</td>\n    </tr>\n    <tr>\n      <th>1</th>\n      <td>2</td>\n      <td>1</td>\n      <td>не работает</td>\n    </tr>\n    <tr>\n      <th>2</th>\n      <td>3</td>\n      <td>2</td>\n      <td>не известно</td>\n    </tr>\n  </tbody>\n</table>\n</div>"
     },
     "execution_count": 22,
     "metadata": {},
     "output_type": "execute_result"
    }
   ],
   "source": [
    "D_work"
   ],
   "metadata": {
    "collapsed": false,
    "pycharm": {
     "name": "#%%\n"
    }
   }
  },
  {
   "cell_type": "code",
   "execution_count": 23,
   "outputs": [],
   "source": [
    "data_client.to_csv('bank_data.csv', index = 0)\n"
   ],
   "metadata": {
    "collapsed": false,
    "pycharm": {
     "name": "#%%\n"
    }
   }
  },
  {
   "cell_type": "code",
   "execution_count": 25,
   "outputs": [
    {
     "data": {
      "text/plain": "0.1190304145043684"
     },
     "execution_count": 25,
     "metadata": {},
     "output_type": "execute_result"
    }
   ],
   "source": [
    "data_client['TARGET'].mean()"
   ],
   "metadata": {
    "collapsed": false,
    "pycharm": {
     "name": "#%%\n"
    }
   }
  },
  {
   "cell_type": "markdown",
   "source": [
    "## Задание 2\n",
    "\n",
    "При помощи инструмента Streamlit проведите разведочный анализ данных. В него может входить:\n",
    "\n",
    "* построение графиков распределений признаков\n",
    "* построение матрицы корреляций\n",
    "* построение графиков зависимостей целевой переменной и признаков\n",
    "* вычисление числовых характеристик распределения числовых столбцов (среднее, min, max, медиана и так далее)\n",
    "* любые другие ваши идеи приветствуются!\n",
    "\n",
    "[Пример Streamlit-приложения](https://rateyourflight.streamlit.app) с разведочным анализом, прогнозом модели и оценкой ее результатов."
   ],
   "metadata": {
    "id": "I7jn6IYXx6M9",
    "pycharm": {
     "name": "#%% md\n"
    }
   }
  },
  {
   "cell_type": "code",
   "execution_count": null,
   "outputs": [],
   "source": [
    "!streamlit run app_streamlit.py"
   ],
   "metadata": {
    "collapsed": false,
    "pycharm": {
     "name": "#%%\n"
    }
   }
  }
 ]
}